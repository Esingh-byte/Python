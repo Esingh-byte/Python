{
 "cells": [
  {
   "cell_type": "markdown",
   "id": "2c910621",
   "metadata": {},
   "source": [
    "#### Q1. Simple Login Form\n",
    "\n",
    "Make a program to get input from user as *username* & *password* and store them in list and tuple respectively. After that if username and password matches, displays a message that you are logged in, otherwise not."
   ]
  },
  {
   "cell_type": "code",
   "execution_count": 1,
   "id": "cd93e2ac",
   "metadata": {},
   "outputs": [
    {
     "name": "stdout",
     "output_type": "stream",
     "text": [
      "\n",
      "<login>\n",
      "Your username is incorrect!\n"
     ]
    }
   ],
   "source": [
    "username_list = [input(\"Set your username: \")]     \n",
    "password_tuple = (input(\"Set your password: \"),)    \n",
    "\n",
    "print(\"\\n<login>\")\n",
    "\n",
    "login_username = input(\"Enter your username: \")\n",
    "login_password = input(\"Enter your password: \")\n",
    "\n",
    "\n",
    "if login_username == username_list[0] and login_password == password_tuple[0]:\n",
    "    print(\"You are logged in successfully!\")\n",
    "\n",
    "elif login_username != username_list[0] and login_password != password_tuple[0]:\n",
    "    print(\"Both username and password are incorrect!\")\n",
    "\n",
    "elif login_username != username_list[0]:\n",
    "    print(\"Your username is incorrect!\")\n",
    "\n",
    "elif login_password != password_tuple[0]:\n",
    "    print(\"Your password is incorrect!\")"
   ]
  },
  {
   "cell_type": "markdown",
   "id": "f60f20a9",
   "metadata": {},
   "source": [
    "#### Q2. Dictionary Program :\n",
    "\n",
    "Make a dictioary 1 having student *name* and *enrollment no.* , and another dictionary 2 having *course name* and *section*. Write a program that takes name or enrollment no.(*any one) as input from user and then displays all the details of the student."
   ]
  },
  {
   "cell_type": "code",
   "execution_count": 2,
   "id": "43d4cd6d",
   "metadata": {},
   "outputs": [
    {
     "name": "stdout",
     "output_type": "stream",
     "text": [
      "\n",
      "Student Details:\n",
      "Name: student1\n",
      "Enrollment No: A20405224146\n",
      "Course: CSE\n",
      "Section: A\n"
     ]
    }
   ],
   "source": [
    "student = {\"student1\":\"A20405224146\",\"student2\":\"A20405224245\",\"student3\":\"A20405224678\"}\n",
    "course_info = {\n",
    "    \"A20405224146\": {\"course\": \"CSE\", \"section\": \"A\"},\n",
    "    \"A20405224245\": {\"course\": \"ECE\", \"section\": \"B\"},\n",
    "    \"A20405224678\": {\"course\": \"ME\", \"section\": \"C\"}\n",
    "}\n",
    "\n",
    "user_input = input(\"Enter student name or enrollment number: \").strip()\n",
    "\n",
    "enrollment_no = None\n",
    "name = None\n",
    "\n",
    "if user_input in student:\n",
    "    name = user_input\n",
    "    enrollment_no = student[name]\n",
    "elif user_input in course_info:\n",
    "    enrollment_no = user_input\n",
    "    for key, value in student.items():\n",
    "        if value == enrollment_no:\n",
    "            name = key\n",
    "            break\n",
    "else:\n",
    "    print(\"Student not found.\")\n",
    "    exit()\n",
    "\n",
    "details = course_info[enrollment_no]\n",
    "\n",
    "print(\"\\nStudent Details:\")\n",
    "print(f\"Name: {name}\")\n",
    "print(f\"Enrollment No: {enrollment_no}\")\n",
    "print(f\"Course: {details['course']}\")\n",
    "print(f\"Section: {details['section']}\")\n"
   ]
  },
  {
   "cell_type": "markdown",
   "id": "d1677296",
   "metadata": {},
   "source": [
    "#### Q3. Type Casting :\n",
    "\n",
    "Make a program to convert a list into tuple and vice versa."
   ]
  },
  {
   "cell_type": "code",
   "execution_count": 3,
   "id": "52935688",
   "metadata": {},
   "outputs": [
    {
     "name": "stdout",
     "output_type": "stream",
     "text": [
      "10.0\n"
     ]
    }
   ],
   "source": [
    "a = (input(\"Enter your data :\"))\n",
    "b = (input(\"And now input which type of datatype you want (float, str, int , list , tuple):\" )).lower()\n",
    "\n",
    "if b == \"float\":\n",
    "   print(float(a))\n",
    "elif b == \"str\":\n",
    "   print(str(a))\n",
    "elif b == \"int\":\n",
    "   print(int(a))\n",
    "elif b == \"list\":\n",
    "   print(list(a))\n",
    "elif b == \"tuple\":\n",
    "   print(tuple(a))\n",
    "else:\n",
    "   print(\"Invalid datatype!\")"
   ]
  }
 ],
 "metadata": {
  "kernelspec": {
   "display_name": "base",
   "language": "python",
   "name": "python3"
  },
  "language_info": {
   "codemirror_mode": {
    "name": "ipython",
    "version": 3
   },
   "file_extension": ".py",
   "mimetype": "text/x-python",
   "name": "python",
   "nbconvert_exporter": "python",
   "pygments_lexer": "ipython3",
   "version": "3.12.7"
  }
 },
 "nbformat": 4,
 "nbformat_minor": 5
}
