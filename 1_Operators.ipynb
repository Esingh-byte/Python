{ 
 "cells": [ 
  { 
   "cell_type": "markdown",   
   "metadata": {},    
   "source": [    
    "# Operators"
   ]       
  },   
  { 
   "cell_type": "markdown",
   "metadata": {},
   "source": [
    "What is operator? ---> Operators are special symbols that perform operations on variables and values. For example,\n",
    "print(5 + 6)   #output :- 11  [Here, + is an operator that adds two numbers: 5 and 6.]"
   ]
  },
  {
   "cell_type": "markdown",
   "metadata": {},
   "source": [
    "#### Types of Operators :-"
   ]
  },
  {
   "cell_type": "markdown",
   "metadata": {},
   "source": [
    "1. Arithmetic Operators\n"
   ]
  },
  {
   "cell_type": "markdown",
   "metadata": {},
   "source": [
    "2. Assignment Operators\n"
   ]
  },
  {
   "cell_type": "markdown",
   "metadata": {},
   "source": [
    "3. Comparison Operators"
   ]
  },
  {
   "cell_type": "markdown",
   "metadata": {},
   "source": [
    "4. Logical Operators"
   ]
  },
  {
   "cell_type": "markdown",
   "metadata": {},
   "source": [
    "5. Bitwise Operators"
   ]
  },
  {
   "cell_type": "markdown",
   "metadata": {},
   "source": [
    "6. Special Operators"
   ]
  },
  {
   "cell_type": "markdown",
   "metadata": {},
   "source": []
  },
  {
   "cell_type": "markdown",
   "metadata": {},
   "source": [
    "### 1. Arithmetic Operators :-"
   ]
  },
  {
   "cell_type": "markdown",
   "metadata": {},
   "source": [
    "Arithmetic operators are used to perform mathematical operations like addition, subtraction, multiplication, etc. For example , sub = 10 - 5  (#Output:- 5)\n",
    " [Here, - is an arithmetic operator that subtracts two values or variables.]"
   ]
  },
  {
   "cell_type": "markdown",
   "metadata": {},
   "source": [
    " i.    Addition (+)      {5+2 = 7}"
   ]
  },
  {
   "cell_type": "markdown",
   "metadata": {},
   "source": [
    "ii. Subtraction (-)   {4-2 = 2}"
   ]
  },
  {
   "cell_type": "markdown",
   "metadata": {},
   "source": [
    "iii. Multiplication ( * ) {2*3 = 6}"
   ]
  },
  {
   "cell_type": "markdown",
   "metadata": {},
   "source": [
    "iv. \tDivision (/) {4/2 = 2}"
   ]
  },
  {
   "cell_type": "markdown",
   "metadata": {},
   "source": [
    "v. \tFloor Division (//) {10//3 =3 }"
   ]
  },
  {
   "cell_type": "markdown",
   "metadata": {},
   "source": [
    "vi. \tModulo (%) {5%2 = 1}"
   ]
  },
  {
   "cell_type": "markdown",
   "metadata": {},
   "source": [
    "vii. \tPower ( ** ) {4**2 = 16}"
   ]
  },
  {
   "cell_type": "markdown",
   "metadata": {},
   "source": [
    "#### <Example 1>"
   ]
  },
  {
   "cell_type": "code",
   "execution_count": 1,
   "metadata": {},
   "outputs": [
    {
     "name": "stdout",
     "output_type": "stream",
     "text": [
      "Sum:  9\n",
      "Subtraction:  5\n",
      "Multiplication:  14\n",
      "Division:  3.5\n",
      "Floor Division:  3\n",
      "Modulo:  1\n",
      "Power:  49\n"
     ]
    }
   ],
   "source": [
    "a = 7\n",
    "b = 2\n",
    "\n",
    "# addition\n",
    "print ('Sum: ', a + b)  \n",
    "\n",
    "# subtraction\n",
    "print ('Subtraction: ', a - b)   \n",
    "\n",
    "# multiplication\n",
    "print ('Multiplication: ', a * b)  \n",
    "\n",
    "# division\n",
    "print ('Division: ', a / b) \n",
    "\n",
    "# floor division\n",
    "print ('Floor Division: ', a // b)\n",
    "\n",
    "# modulo\n",
    "print ('Modulo: ', a % b)  \n",
    "\n",
    "# a to the power b\n",
    "print ('Power: ', a ** b)   "
   ]
  },
  {
   "cell_type": "markdown",
   "metadata": {},
   "source": [
    "In the above example, we have used multiple arithmetic operators,\n",
    "\n",
    "* (+)to add  a  and  b\n",
    "* (-) to subtract  b  from  a\n",
    "* (*)to multiply  a  and  b\n",
    "* (/) to divid  a  by  b\n",
    "* (//) to floor divide  a  by  b\n",
    "* (%) to get the remainder\n",
    "* (**) to get a to the power b\n"
   ]
  },
  {
   "cell_type": "markdown",
   "metadata": {},
   "source": []
  },
  {
   "cell_type": "markdown",
   "metadata": {},
   "source": [
    "### 2. Assignment Operators"
   ]
  },
  {
   "cell_type": "markdown",
   "metadata": {},
   "source": [
    "Assignment operators are used to assign values to variables. For example\n",
    "x = 5\n",
    "[Here, = is an assignment operator that assigns 5 to x.]\n",
    "* Here's a list of different assignment operators available in Python :-"
   ]
  },
  {
   "cell_type": "markdown",
   "metadata": {},
   "source": [
    "i. \tAssignment Operator (=) {a = 7}"
   ]
  },
  {
   "cell_type": "markdown",
   "metadata": {},
   "source": [
    "ii. \tAddition Assignmen (+=) {a += 1....# a = a + 1}"
   ]
  },
  {
   "cell_type": "markdown",
   "metadata": {},
   "source": [
    "iii. Subtraction Assignment (-=) {a -= 3....# a = a - 3}"
   ]
  },
  {
   "cell_type": "markdown",
   "metadata": {},
   "source": [
    "iv. \tMultiplication Assignment (*=) {a *= 4.... # a = a * 4}"
   ]
  },
  {
   "cell_type": "markdown",
   "metadata": {},
   "source": [
    "v. \tDivision Assignment (/=) {a /= 3....# a = a / 3}"
   ]
  },
  {
   "cell_type": "markdown",
   "metadata": {},
   "source": [
    "vi. Remainder Assignment (%=) {a %= 10 .....# a = a % 10}"
   ]
  },
  {
   "cell_type": "markdown",
   "metadata": {},
   "source": [
    "vii. Exponent Assignment (**=) {a **= 10.....# a = a ** 10}"
   ]
  },
  {
   "cell_type": "markdown",
   "metadata": {},
   "source": [
    "#### <Example 2>"
   ]
  },
  {
   "cell_type": "code",
   "execution_count": 2,
   "metadata": {},
   "outputs": [
    {
     "name": "stdout",
     "output_type": "stream",
     "text": [
      "15\n"
     ]
    }
   ],
   "source": [
    "# assign 10 to a\n",
    "a = 10\n",
    "\n",
    "# assign 5 to b\n",
    "b = 5 \n",
    "\n",
    "# assign the sum of a and b to a\n",
    "a += b      # a = a + b\n",
    "\n",
    "print(a)\n"
   ]
  },
  {
   "cell_type": "markdown",
   "metadata": {},
   "source": [
    "Here, we have used the (+=) operator to assign the sum of a and b to a.\n",
    "\n",
    "Similarly, we can use any other assignment operators as per our needs.\n",
    "\n"
   ]
  },
  {
   "cell_type": "markdown",
   "metadata": {},
   "source": []
  },
  {
   "cell_type": "markdown",
   "metadata": {},
   "source": [
    "### 3. Comparison Operators\n"
   ]
  },
  {
   "cell_type": "markdown",
   "metadata": {},
   "source": [
    "Comparison operators compare two values/variables and return a boolean result: True or False. For example,\n",
    "\n",
    "a = 5\n",
    "b = 2\n",
    "\n",
    "print (a > b)    ....# True\n",
    "\n",
    "[Here, the > comparison operator is used to compare whether a is greater than b or not.]"
   ]
  },
  {
   "cell_type": "markdown",
   "metadata": {},
   "source": [
    "i. \tIs Equal To (==) {3 == 5....gives us False}"
   ]
  },
  {
   "cell_type": "markdown",
   "metadata": {},
   "source": [
    "ii. Not Equal To (!=) {3 != 5....gives us True}"
   ]
  },
  {
   "cell_type": "markdown",
   "metadata": {},
   "source": [
    "iii. Greater Than (>) {3 > 5....gives us False}"
   ]
  },
  {
   "cell_type": "markdown",
   "metadata": {},
   "source": [
    "iv. \tLess Than (<) {3 < 5.....gives us True}"
   ]
  },
  {
   "cell_type": "markdown",
   "metadata": {},
   "source": [
    "v. Greater Than or Equal To (>=) {3 >= 5....give us False}"
   ]
  },
  {
   "cell_type": "markdown",
   "metadata": {},
   "source": [
    "vi. \tLess Than or Equal To (<=) {3 <= 5....gives us True}"
   ]
  },
  {
   "cell_type": "markdown",
   "metadata": {},
   "source": [
    "#### <Example 3>"
   ]
  },
  {
   "cell_type": "code",
   "execution_count": 1,
   "metadata": {},
   "outputs": [
    {
     "name": "stdout",
     "output_type": "stream",
     "text": [
      "a == b = False\n",
      "a != b = True\n",
      "a > b = True\n",
      "a < b = False\n",
      "a >= b = True\n",
      "a <= b = False\n"
     ]
    }
   ],
   "source": [
    "a = 5\n",
    "\n",
    "b = 2\n",
    "\n",
    "# equal to operator\n",
    "print('a == b =', a == b)\n",
    "\n",
    "# not equal to operator\n",
    "print('a != b =', a != b)\n",
    "\n",
    "# greater than operator\n",
    "print('a > b =', a > b)\n",
    "\n",
    "# less than operator\n",
    "print('a < b =', a < b)\n",
    "\n",
    "# greater than or equal to operator\n",
    "print('a >= b =', a >= b)\n",
    "\n",
    "# less than or equal to operator\n",
    "print('a <= b =', a <= b)"
   ]
  },
  {
   "cell_type": "markdown",
   "metadata": {},
   "source": [
    "##### Note: Comparison operators are used in decision-making and loops. "
   ]
  },
  {
   "cell_type": "code",
   "execution_count": null,
   "metadata": {},
   "outputs": [],
   "source": []
  },
  {
   "cell_type": "markdown",
   "metadata": {},
   "source": []
  },
  {
   "cell_type": "markdown",
   "metadata": {},
   "source": [
    "### 4. Logical Operators"
   ]
  },
  {
   "cell_type": "markdown",
   "metadata": {},
   "source": [
    "Logical operators are used to check whether an expression is True or False. They are used in decision-making. For example,\n",
    "a = 5\n",
    "b = 6\n",
    "\n",
    "print((a > 2) and (b >= 6))...... # True\n",
    "\n",
    "[Here, and is the logical operator AND. Since both a > 2 and b >= 6 are True, the result is True.]"
   ]
  },
  {
   "cell_type": "markdown",
   "metadata": {},
   "source": [
    "#### Operators | Example | Meaning"
   ]
  },
  {
   "cell_type": "markdown",
   "metadata": {},
   "source": [
    "i . and | a and b | Logical AND : True only if both the operands are True\n"
   ]
  },
  {
   "cell_type": "markdown",
   "metadata": {},
   "source": [
    "ii. or | a or b |Logical OR : True if at least one of the operands is True"
   ]
  },
  {
   "cell_type": "markdown",
   "metadata": {},
   "source": [
    "iii. not | not a | Logical NOT:True if the operand is False and vice-versa"
   ]
  },
  {
   "cell_type": "markdown",
   "metadata": {},
   "source": [
    "#### <Example 4>"
   ]
  },
  {
   "cell_type": "code",
   "execution_count": 2,
   "metadata": {},
   "outputs": [
    {
     "name": "stdout",
     "output_type": "stream",
     "text": [
      "True\n",
      "False\n",
      "True\n",
      "False\n"
     ]
    }
   ],
   "source": [
    "# logical AND\n",
    "print(True and True)     # True\n",
    "print(True and False)    # False\n",
    "\n",
    "# logical OR\n",
    "print(True or False)     # True\n",
    "\n",
    "# logical NOT\n",
    "print(not True)          # False"
   ]
  },
  {
   "cell_type": "markdown",
   "metadata": {},
   "source": [
    "##### Note: Here is the truth table for these logical operators."
   ]
  },
  {
   "cell_type": "markdown",
   "metadata": {},
   "source": []
  },
  {
   "cell_type": "markdown",
   "metadata": {},
   "source": [
    "### 4. Bitwise operators"
   ]
  },
  {
   "cell_type": "markdown",
   "metadata": {},
   "source": [
    "Bitwise operators act on operands as if they were strings of binary digits. They operate bit by bit, hence the name.\n",
    "\n",
    "For example, 2 is 10 in binary, and 7 is 111.\n",
    "\n",
    "In the table below: Let x = 10 (0000 1010 in binary) and y = 4 (0000 0100 in binary)"
   ]
  },
  {
   "cell_type": "markdown",
   "metadata": {},
   "source": [
    "#### Operators | Example | Meaning"
   ]
  },
  {
   "cell_type": "markdown",
   "metadata": {},
   "source": [
    "i. { & } | Bitwise AND |.....x & y = 0 (0000 0000)"
   ]
  },
  {
   "cell_type": "markdown",
   "metadata": {},
   "source": [
    "ii. { | } | Bitwise OR |.... x | y = 14 (0000 1110)"
   ]
  },
  {
   "cell_type": "markdown",
   "metadata": {},
   "source": [
    "iii.  {~} | Bitwise NOT |....~x = -11 (1111 0101)"
   ]
  },
  {
   "cell_type": "markdown",
   "metadata": {},
   "source": [
    "iv. {^} | Bitwise XOR |....x ^ y = 14 (0000 1110)"
   ]
  },
  {
   "cell_type": "markdown",
   "metadata": {},
   "source": [
    "v. {>>} | Bitwise right shift |....x >> 2 = 2 (0000 0010)"
   ]
  },
  {
   "cell_type": "markdown",
   "metadata": {},
   "source": [
    "vi. {<<} | \tBitwise left shift |....x (0010 1000)"
   ]
  },
  {
   "cell_type": "markdown",
   "metadata": {},
   "source": []
  },
  {
   "cell_type": "markdown",
   "metadata": {},
   "source": [
    "### 6. Special operators"
   ]
  },
  {
   "cell_type": "markdown",
   "metadata": {},
   "source": [
    "Python language offers some special types of operators like the IDENTITY operator and the MEMBERSHIP operator. They are described below with examples.\n",
    "\n",
    "##### Identity operators\n",
    "\n",
    "In Python, (is) and (is not) are used to check if two values are located at the same memory location.\n",
    "\n",
    "It's important to note that having two variables with equal values doesn't necessarily mean they are identical."
   ]
  },
  {
   "cell_type": "markdown",
   "metadata": {},
   "source": [
    "#### Operators | Example | Meaning"
   ]
  },
  {
   "cell_type": "markdown",
   "metadata": {},
   "source": [
    "i. is | [True] if the operands are identical (refer to the same object)\t| {x is True}"
   ]
  },
  {
   "cell_type": "markdown",
   "metadata": {},
   "source": [
    "ii. is not | [True] if the operands are not identical (do not refer to the same object) | {x is not True}"
   ]
  },
  {
   "cell_type": "markdown",
   "metadata": {},
   "source": [
    "#### <Example 5>"
   ]
  },
  {
   "cell_type": "code",
   "execution_count": 3,
   "metadata": {},
   "outputs": [
    {
     "name": "stdout",
     "output_type": "stream",
     "text": [
      "False\n",
      "True\n",
      "False\n"
     ]
    }
   ],
   "source": [
    "x1 = 5\n",
    "y1 = 5\n",
    "x2 = 'Hello'\n",
    "y2 = 'Hello'\n",
    "x3 = [1,2,3]\n",
    "y3 = [1,2,3]\n",
    "\n",
    "print(x1 is not y1)  # prints False\n",
    "\n",
    "print(x2 is y2)  # prints True\n",
    "\n",
    "print(x3 is y3)  # prints False"
   ]
  },
  {
   "cell_type": "markdown",
   "metadata": {},
   "source": [
    "Here, we see that (x1) and (y1) are integers of the same values, so they are equal as well as identical. The same is the case with (x2) and (y2) (strings).\n",
    "\n",
    "But (x3) and (y3) are lists. They are equal but not identical. It is because the interpreter locates them separately in memory, although they are equal."
   ]
  },
  {
   "cell_type": "markdown",
   "metadata": {},
   "source": []
  },
  {
   "cell_type": "markdown",
   "metadata": {},
   "source": [
    "### 7. Membership operators"
   ]
  },
  {
   "cell_type": "markdown",
   "metadata": {},
   "source": [
    "In Python, (in) and (not in) are the membership operators. They are used to test whether a value or variable is found in a sequence (string, list, tuple, set and dictionary).\n",
    "\n",
    "In a dictionary, we can only test for the presence of a key, not the value."
   ]
  },
  {
   "cell_type": "markdown",
   "metadata": {},
   "source": [
    "#### Operators | Example | Meaning"
   ]
  },
  {
   "cell_type": "markdown",
   "metadata": {},
   "source": [
    "i. in | True if value/variable is found in the sequence | 5 in x"
   ]
  },
  {
   "cell_type": "markdown",
   "metadata": {},
   "source": [
    "ii. not in | True if value/variable is not found in the sequence | 5 not in x"
   ]
  },
  {
   "cell_type": "markdown",
   "metadata": {},
   "source": [
    "#### <Example 6>"
   ]
  },
  {
   "cell_type": "code",
   "execution_count": 4,
   "metadata": {},
   "outputs": [
    {
     "name": "stdout",
     "output_type": "stream",
     "text": [
      "True\n",
      "True\n",
      "True\n",
      "False\n"
     ]
    }
   ],
   "source": [
    "message = 'Hello world'\n",
    "dict1 = {1:'a', 2:'b'}\n",
    "\n",
    "# check if 'H' is present in message string\n",
    "print('H' in message)  # prints True\n",
    "\n",
    "# check if 'hello' is present in message string\n",
    "print('hello' not in message)  # prints True\n",
    "\n",
    "# check if '1' key is present in dict1\n",
    "print(1 in dict1)  # prints True\n",
    "\n",
    "# check if 'a' key is present in dict1\n",
    "print('a' in dict1)  # prints False"
   ]
  },
  {
   "cell_type": "markdown",
   "metadata": {},
   "source": [
    "Here, 'H' is in (message), but 'hello' is not present in(message) (remember, Python is case-sensitive).\n",
    "\n",
    "Similarly, 1 is key, and 'a' is the value in dictionary (dict1). Hence, 'a' in y returns {False}.\n",
    "\n"
   ]
  }
 ],
 "metadata": {
  "kernelspec": {
   "display_name": "Python 3",
   "language": "python",
   "name": "python3"
  },
  "language_info": {
   "codemirror_mode": {
    "name": "ipython",
    "version": 3
   },
   "file_extension": ".py",
   "mimetype": "text/x-python",
   "name": "python",
   "nbconvert_exporter": "python",
   "pygments_lexer": "ipython3",
   "version": "3.12.3"
  }
 },
 "nbformat": 4,
 "nbformat_minor": 2
}
